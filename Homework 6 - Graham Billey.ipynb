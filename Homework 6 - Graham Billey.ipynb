{
 "cells": [
  {
   "cell_type": "markdown",
   "metadata": {},
   "source": [
    "#### ISyE6669 HW06 - Graham Billey, Spring 2020"
   ]
  },
  {
   "cell_type": "code",
   "execution_count": 14,
   "metadata": {},
   "outputs": [],
   "source": [
    "import pandas as pd\n",
    "import numpy as np\n",
    "import matplotlib.pyplot as plt\n",
    "import cvxpy as cp\n",
    "from mpl_toolkits.mplot3d import Axes3D \n",
    "# from cvxpy import *"
   ]
  },
  {
   "cell_type": "markdown",
   "metadata": {},
   "source": [
    "#### Problem 01\n",
    "\n",
    "Implement the stochastic inventory control model in CVXPY with the following data.\n",
    "\n"
   ]
  },
  {
   "cell_type": "markdown",
   "metadata": {},
   "source": [
    "Stochastic optimization models have the following general formula:\n",
    "\n",
    "----\n",
    "\n",
    "$ \\min_x \\,\\,\\, cx + E_d[Q(x,d)] $\n",
    "\n",
    "$ s.t. \\,\\,\\, 0 \\leq x \\leq \\bar x $\n",
    "\n",
    "----\n",
    "\n",
    "$ Q(x, d) = \\min_{y,z} \\,\\,\\, -ry-sz $\n",
    "\n",
    "$ s.t. \\,\\,\\, y \\leq d $\n",
    "\n",
    "$ \\quad\\quad y + z \\leq x $\n",
    "\n",
    "$ \\quad\\quad y \\geq 0, z \\geq 0 $"
   ]
  },
  {
   "cell_type": "markdown",
   "metadata": {},
   "source": [
    "In this case, we are condisering demand $d$ to be a discreet random variable with S scenarios. Each $d_i$ will have probability $p_i$. Thus the optimization becomes:\n",
    "\n",
    "----\n",
    "\n",
    "$ \\min_{x,y_i,z_i} \\,\\,\\, cx + \\sum_{i=1}^S p_i(-r y_i - s z_i) $\n",
    "\n",
    "$ s.t. \\,\\,\\, 0 \\leq x \\leq \\bar x \\quad\\quad \\forall i = 1, ..., S $\n",
    "\n",
    "$ \\quad\\quad y_i \\leq d_i \\quad\\quad\\quad \\forall i = 1, ..., S $\n",
    "\n",
    "$ \\quad\\quad -x + y_i + z_i \\leq 0 \\quad\\quad \\forall i = 1, ..., S $\n",
    "\n",
    "$ \\quad\\quad y_i \\geq 0, z_i \\geq 0 \\quad\\quad\\quad \\forall i = 1, ..., S $"
   ]
  },
  {
   "cell_type": "markdown",
   "metadata": {},
   "source": [
    "(a) Demand d can take 3 values: $d_1$ `= 30`, $d_2$ `= 40`, $d_3$ `= 50`, with the probablity $p_1$ `= 0.3`, $p_2$ `= 0.4`, $p_3$ `= 0.3`, respectively.\n",
    "\n",
    "(b) Unit cost $c$ `= 15`, retail price $r$ `= 50`, discount price $s$ `= 10`.\n",
    "\n",
    "(c) Production capacity $\\bar{x}$ `= 75`"
   ]
  },
  {
   "cell_type": "code",
   "execution_count": 26,
   "metadata": {},
   "outputs": [
    {
     "name": "stdout",
     "output_type": "stream",
     "text": [
      "The optimal cost value is: $-1350.0\n",
      "The optimal x value is: 50.0\n"
     ]
    }
   ],
   "source": [
    "# Declare constants\n",
    "d = [30, 40, 50]\n",
    "p = [0.3, 0.4, 0.3]\n",
    "\n",
    "c = 15\n",
    "r = 50\n",
    "s = 10\n",
    "\n",
    "x_bar = 75\n",
    "\n",
    "# Declare variables\n",
    "x = cp.Variable()\n",
    "y = cp.Variable(3)\n",
    "z = cp.Variable(3)\n",
    "\n",
    "# Define objective function\n",
    "def cost(x, y, z, d, p, c, r, s, x_bar):\n",
    "    # First stage cost\n",
    "    first = c*x\n",
    "    \n",
    "    # Second stage cost\n",
    "    second = p[0]*(-r*y[0] - s*z[0]) + p[1]*(-r*y[1] - s*z[1]) + p[2]*(-r*y[2] - s*z[2])\n",
    "    \n",
    "    return first + second\n",
    "\n",
    "# Define constraints\n",
    "constraints = [\n",
    "    0 <= x,\n",
    "    x <= x_bar,\n",
    "    y[0] <= d[0],\n",
    "    y[1] <= d[1],\n",
    "    y[2] <= d[2],\n",
    "    -x + y[0] + z[0] <= 0,\n",
    "    -x + y[1] + z[1] <= 0,\n",
    "    -x + y[2] + z[2] <= 0,\n",
    "    y[0] >= 0,\n",
    "    y[1] >= 0,\n",
    "    y[2] >= 0,\n",
    "    z[0] >= 0,\n",
    "    z[1] >= 0,\n",
    "    z[2] >= 0\n",
    "]\n",
    "\n",
    "# Solve and print outputs\n",
    "objective = cp.Minimize(cost(x, y, z, d, p, c, r, s, x_bar))\n",
    "myprob = cp.Problem(objective, constraints)\n",
    "myprob.solve()\n",
    "\n",
    "\n",
    "print (f'The optimal cost value is: ${myprob.value}')\n",
    "print (f'The optimal x value is: {x.value}')\n"
   ]
  },
  {
   "cell_type": "markdown",
   "metadata": {},
   "source": [
    "#### Problem 02\n",
    "\n",
    "Given a set of training data $ {x_i,y_i}_{i=1,...,N} $, where $ x_i $ is an n-dimensional feature vector and $ y_i $ is a label of value either 0 or 1. Think about each $ x_i $ represents a vector of lab test data of a patient $ i $ and $ y_i $ labels if this person has a certain disease. We want to build a linear classifier, i.e. a linear function $ f(x) = \\beta_0 + \\sum^n_{j=1} \\beta_jx_j $, so that for a given feature vector $x$, if $ f(x) ≥ 0.5 $, then $ x $ is classified as $ y $ = 1, otherwise classified as $ y $ = 0. \n",
    "\n",
    "Consider the following robust absolute deviation regression model.\n",
    "\n",
    "$$ (RADR) \\min_{\\beta_{0}, \\ldots, \\beta_{n}} \\max_{i=1,2,\\ldots,N}\\ \\left\\lvert y_i−\\beta_0−\\sum^n_{j=1} \\beta_j x_{ij}\\ \\right\\rvert , $$\n",
    "\n",
    "where $ x_{ij} $ is the $ jth $ component of vector $ x_i $. Notice that the $ RADR $ model is a nonlinear optimization problem.\n",
    "\n",
    "Answer the following questions."
   ]
  },
  {
   "cell_type": "markdown",
   "metadata": {},
   "source": [
    "(a) The objective function $ f(\\beta_0,...,\\beta_n) $ of $ (RADR) $ is defined as\n",
    "\n",
    "$$ f(\\beta_0,...,\\beta_n) = \\max_{i=1,2,\\ldots,N}\\ \\left\\lvert y_i−\\beta_0−\\sum^n_{j=1} \\beta_j x_{ij} \\right\\rvert . $$ \n",
    "\n",
    "Is $ f(\\beta_0,...,\\beta_n) $ a convex function of $ \\beta_0,...,\\beta_n $ ?  Explain why.  Hint: Function $ f $ is a maximum of absolute value functions. Is each $ | y_i−\\beta_0−\\sum^n_{j=1} \\beta_j x_{ij} | $ a convex function of $ \\beta $? Then, use the operation that preserves convexity to conclude about $ f $."
   ]
  },
  {
   "cell_type": "markdown",
   "metadata": {},
   "source": [
    "---\n",
    "**Student's Answer:**\n",
    "\n",
    "\n",
    "The following operations preserve convexity:\n",
    "\n",
    "- A Nonnegative weighted sum of convex functions in convex.\n",
    "\n",
    "- The pointwise maximum of convex functions is convex.\n",
    "\n",
    "- Composition: Let $f : \\mathbb R^m \\rightarrow \\mathbb R$ be a convex function, and $g_i : \\mathbb R^n \\rightarrow \\mathbb R$ be convex $\\forall i = 1, ..., m$. The the composition function $ h(\\vec x) = f(g_1(x), g_2(x), ..., g_m(x)) $ is convex if either f is nondecreasing, or if each $g_i$ is a linear function.\n",
    "\n",
    "From the above operations that complexity, we can see:\n",
    "\n",
    "- Let $g_i(X) = \\left\\lvert y_i−\\beta_0−\\sum^n_{j=1} \\beta_j x_{ij} \\right\\rvert$. It is obtained by the composition of the convex function $\\left\\lvert \\cdot \\right\\rvert$ and the linear function $y_i−\\beta_0−\\sum^n_{j=1} \\beta_j x_{ij}$. **Therefore $g_i(x)$ is convex.**\n",
    "\n",
    "- $f$ is obtained by taking a pointwise maximum of these convex $g_i(x)$ functions.\n",
    "\n",
    "Since the pointwise maximum of convex functions is also convex, we conclude that **f is convex.**\n",
    "\n",
    "---"
   ]
  },
  {
   "cell_type": "markdown",
   "metadata": {},
   "source": [
    "(b) Write a linear programming reformulation of (RADR).\n"
   ]
  },
  {
   "cell_type": "markdown",
   "metadata": {},
   "source": [
    "---\n",
    "**Student's Answer:**\n",
    "\n",
    "The original problem is: $$\\min_{\\beta} \\,\\,\\, \\max_{i} \\left\\lvert y_i−\\beta_0−\\sum^n_{j=1} \\beta_j x_{ij}\\ \\right\\rvert$$\n",
    "\n",
    "Let us define $u_i$ as: $$ u_i = y_i−\\beta_0−\\sum^n_{j=1} \\beta_j x_{ij} $$\n",
    "\n",
    "The original problem can be rewritten as: $$\\min_{\\beta} \\,\\,\\, \\max_{i} \\left\\lvert u_i \\right\\rvert$$\n",
    "\n",
    "If we replace the objective function with another variable $z \\geq \\max \\left\\lvert u_i \\right\\rvert$, we get: $$\\min_{\\beta} \\,\\,\\, z$$\n",
    "\n",
    "$$s.t. \\quad \\max_{i}  \\left\\lvert u_i \\right\\rvert \\leq z$$\n",
    "\n",
    "--- "
   ]
  },
  {
   "cell_type": "markdown",
   "metadata": {},
   "source": [
    "Since $\\max \\left\\lvert u_i \\right\\rvert \\leq z$ is equivalent to _**each**_ $\\left\\lvert u_i \\right\\rvert \\leq z$, we get:\n",
    "\n",
    "$$ \\min_{\\beta} \\,\\,\\, z $$\n",
    "\n",
    "$$ s.t. \\quad\\quad \\left\\lvert u_i \\right\\rvert \\leq  z \\,\\,\\,\\, \\forall  i = 1, ..., N $$\n",
    "\n",
    "\n",
    "---\n",
    "\n",
    "Since: $$ \\quad \\left\\lvert u_i \\right\\rvert = \\max(u_i, -u_i) $$\n",
    "\n",
    "We can rewrite the problem as: $$\\min_{\\beta} \\,\\,\\, z$$\n",
    "\n",
    "$$s.t. \\quad -z \\leq u_i \\leq z \\,\\,\\,\\, \\forall  i = 1, ..., N $$\n",
    "\n",
    "---\n",
    "\n",
    "Plugging our original definiton back in for $u_i$ we get the following reformulation of the original problem:\n",
    "\n",
    "$$\\min_{\\beta} \\,\\,\\, z$$\n",
    "\n",
    "$$ s.t. $$\n",
    "\n",
    "$$y_i−\\beta_0−\\sum^n_{j=1} \\beta_j x_{ij} \\leq z \\,\\,\\,\\, \\forall  i = 1, ..., N $$\n",
    "\n",
    "$$ \\quad y_i−\\beta_0−\\sum^n_{j=1} \\beta_j x_{ij} \\geq -z \\,\\,\\,\\, \\forall  i = 1, ..., N $$\n",
    "\n",
    "---"
   ]
  },
  {
   "cell_type": "markdown",
   "metadata": {},
   "source": [
    "(c) Code your LP reformulation of (RADR) in CVXPY, using the data file provided."
   ]
  },
  {
   "cell_type": "code",
   "execution_count": 81,
   "metadata": {},
   "outputs": [],
   "source": [
    "## from ISYE6669_HW6_q2_starter.py\n",
    "\n",
    "# read in the data\n",
    "data = pd.read_table('regression.dat', delim_whitespace=True, header = None)\n",
    "\n",
    "# the number of data points and features for data splitting\n",
    "nData = 100 \n",
    "nFeature = 2\n",
    "\n",
    "# data cleansing and formatting for Python 3\n",
    "x = data.values[0: nData, :]\n",
    "x = np.concatenate((x[0,3:].reshape((1,2)), x[1:,:nFeature]), axis=0).astype(float)\n",
    "y = data.values[nData:, :]\n",
    "y = np.append(y[1,3], y[2:,0])\n",
    "y[-1] = 1\n",
    "y = y.astype(float)\n"
   ]
  },
  {
   "cell_type": "code",
   "execution_count": 117,
   "metadata": {},
   "outputs": [
    {
     "name": "stdout",
     "output_type": "stream",
     "text": [
      "The optimal z value is:  0.5000037897\n",
      "The optimal b0 value is: 0.5000012792\n",
      "The optimal b1 value is: -1.9441e-06\n",
      "The optimal b2 value is: 1.9195e-06\n"
     ]
    }
   ],
   "source": [
    "# Declare variables\n",
    "b0 = cp.Variable()\n",
    "b1 = cp.Variable()\n",
    "b2 = cp.Variable()\n",
    "z = cp.Variable()\n",
    "   \n",
    "\n",
    "# Define constraints\n",
    "constraints = []\n",
    "for i in range(nData):\n",
    "    eq1 = b0 + b1*x[i,0] + b2*x[i,1] - y[i] <= z\n",
    "    eq2 = b0 + b1*x[i,0] + b2*x[i,1] - y[i] >= -z\n",
    "    constraints.append(eq1)\n",
    "    constraints.append(eq2)\n",
    "    \n",
    "# Solve and print outputs\n",
    "objective = cp.Minimize(z)\n",
    "myprob2 = cp.Problem(objective, constraints)\n",
    "myprob2.solve()\n",
    "\n",
    "print (f'The optimal z value is:  {np.round(z.value,10)}')\n",
    "print (f'The optimal b0 value is: {np.round(b0.value,10)}')\n",
    "print (f'The optimal b1 value is: {np.round(b1.value,10)}')\n",
    "print (f'The optimal b2 value is: {np.round(b2.value,10)}')\n"
   ]
  },
  {
   "cell_type": "markdown",
   "metadata": {},
   "source": [
    "(d) Write a Python code to plot the data points and the hyperplane obtained from (RADR)."
   ]
  },
  {
   "cell_type": "code",
   "execution_count": 127,
   "metadata": {
    "scrolled": true
   },
   "outputs": [
    {
     "data": {
      "image/png": "[encoded data removed]",
      "text/plain": [
       "<Figure size 432x288 with 1 Axes>"
      ]
     },
     "metadata": {
      "needs_background": "light"
     },
     "output_type": "display_data"
    }
   ],
   "source": [
    "# Show the original data\n",
    "plt.scatter(x[:, 0], x[:, 1], c=y, s=30, cmap=plt.cm.Paired)\n",
    "\n",
    "# Create the hyperplane\n",
    "a = b1.value / b2.value\n",
    "xx = np.linspace(-2.5, 5)\n",
    "yy = -a * xx - b0.value\n",
    "plt.plot(xx, yy)\n",
    "\n",
    "plt.show()"
   ]
  }
 ],
 "metadata": {
  "file_extension": ".py",
  "kernelspec": {
   "display_name": "Python 3",
   "language": "python",
   "name": "python3"
  },
  "language_info": {
   "codemirror_mode": {
    "name": "ipython",
    "version": 3
   },
   "file_extension": ".py",
   "mimetype": "text/x-python",
   "name": "python",
   "nbconvert_exporter": "python",
   "pygments_lexer": "ipython3",
   "version": "3.7.4"
  },
  "mimetype": "text/x-python",
  "name": "python",
  "npconvert_exporter": "python",
  "pygments_lexer": "ipython3",
  "version": 3
 },
 "nbformat": 4,
 "nbformat_minor": 2
}
